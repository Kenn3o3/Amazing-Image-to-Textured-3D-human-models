{
  "cells": [
    {
      "cell_type": "markdown",
      "metadata": {
        "id": "ThuMJHdOfiTI"
      },
      "source": [
        "<font size=26><b><center>\n",
        "  Reconstructing <font color=\"#98BACB\">Humans</font> with a\n",
        "  <font color=\"#CAB6A5\">Biomechanically</font> Accurate Skeleton\n",
        "</center></b></font>\n",
        "\n",
        "<center>\n",
        "<a href=\"https://isshikihugh.github.io/HSMR/\">Project Page</a>\n",
        "|\n",
        "<a href=\"https://github.com/IsshikiHugh/HSMR\">GitHub Repo</a>\n",
        "</center>\n",
        "\n",
        "> **Reconstructing Humans with a Biomechanically Accurate Skeleton**  \n",
        "> [Yan Xia](https://scholar.isshikih.top),\n",
        "> [Xiaowei Zhou](https://xzhou.me),\n",
        "> [Etienne Vouga](https://www.cs.utexas.edu/~evouga/),\n",
        "> [Qixing Huang](https://www.cs.utexas.edu/~huangqx/),\n",
        "> [Georgios Pavlakos](https://geopavlakos.github.io/)  \n",
        "> *CVPR 2025*\n"
      ]
    },
    {
      "cell_type": "markdown",
      "metadata": {
        "id": "FTLjIJuqhVXA"
      },
      "source": [
        "# Installation\n",
        "\n",
        "> Tips: you can fold the section and run the whole installation section at once."
      ]
    },
    {
      "cell_type": "code",
      "execution_count": null,
      "metadata": {
        "colab": {
          "base_uri": "https://localhost:8080/"
        },
        "id": "aaqcIE3yfoZl",
        "outputId": "0bb2bfd4-2826-4d97-b052-b33a43a7d776"
      },
      "outputs": [],
      "source": [
        "# Ensuring notebook is connected to NVIDIA drivers with CUDA. If not, check [ Top Bar ] > [ Edit ] > [ Notebook settings ].\n",
        "# If you can't find the top bar, you may need to click the 'v' button at the top right of the page.\n",
        "# Google may shut down the GPU if usage has surpassed the allocation.\n",
        "\n",
        "!nvidia-smi"
      ]
    },
    {
      "cell_type": "markdown",
      "metadata": {
        "id": "MoWzrFb8zpMx"
      },
      "source": [
        "## Environment Preparation (~ 6 min)\n",
        "\n",
        "Check [SETUP.md#Environment-Setup](https://github.com/IsshikiHugh/HSMR/blob/main/docs/SETUP.md#environment-setup) for further information."
      ]
    },
    {
      "cell_type": "code",
      "execution_count": null,
      "metadata": {
        "colab": {
          "base_uri": "https://localhost:8080/",
          "height": 1000
        },
        "id": "crnCfKf6zYWs",
        "outputId": "48024627-ab3f-4751-8ee1-9139519cc0cc"
      },
      "outputs": [],
      "source": [
        "import os\n",
        "from pathlib import Path\n",
        "\n",
        "# Clone the repo.\n",
        "!git clone https://github.com/IsshikiHugh/HSMR\n",
        "proj_root = str(Path('HSMR').absolute())\n",
        "\n",
        "# Install HSMR. (Click cancel if you see warnings.)\n",
        "%cd {proj_root}\n",
        "%pip install -r requirements.txt\n",
        "%pip install \"git+https://github.com/facebookresearch/detectron2.git\"  # this is slow\n",
        "%pip install \"git+https://github.com/mattloper/chumpy\"\n",
        "%pip install -e ."
      ]
    },
    {
      "cell_type": "markdown",
      "metadata": {
        "id": "fBL0j7eEzsPr"
      },
      "source": [
        "## Data Preparation (~ 2 min)\n",
        "\n",
        "Check [SETUP.md#Data-Preparation](https://github.com/IsshikiHugh/HSMR/blob/main/docs/SETUP.md#data-preparation) for further information."
      ]
    },
    {
      "cell_type": "code",
      "execution_count": null,
      "metadata": {
        "colab": {
          "base_uri": "https://localhost:8080/"
        },
        "id": "Yhp1JdapzwIR",
        "outputId": "05aa46bb-82aa-4fd2-8ec3-29bab1580811"
      },
      "outputs": [],
      "source": [
        "%cd {proj_root}/data_inputs\n",
        "\n",
        "!mkdir -p released_models\n",
        "!wget -c 'https://huggingface.co/IsshikiHugh/HSMR-data_inputs/resolve/main/body_models.tar.gz' -O body_models.tar.gz\n",
        "!wget -c 'https://huggingface.co/IsshikiHugh/HSMR-data_inputs/resolve/main/released_models/HSMR-ViTH-r1d1.tar.gz' -O released_models/HSMR-ViTH-r1d1.tar.gz\n",
        "!tar -xzf body_models.tar.gz\n",
        "!tar -xzf released_models/HSMR-ViTH-r1d1.tar.gz -C released_models/"
      ]
    },
    {
      "cell_type": "markdown",
      "metadata": {
        "id": "t_mwHOAGhXUR"
      },
      "source": [
        "# Demo\n",
        "\n",
        "It takes some time to download the detector checkpoints when launching the demo for the first time."
      ]
    },
    {
      "cell_type": "code",
      "execution_count": null,
      "metadata": {
        "colab": {
          "base_uri": "https://localhost:8080/"
        },
        "id": "lavlcRbx6R_b",
        "outputId": "0720fae4-054b-4b69-9b08-2a01a827fe09"
      },
      "outputs": [],
      "source": [
        "%cd {proj_root}\n",
        "\n",
        "!python exp/run_demo.py --input_path \"data_inputs/demo/example_imgs\""
      ]
    },
    {
      "cell_type": "code",
      "execution_count": null,
      "metadata": {
        "colab": {
          "base_uri": "https://localhost:8080/",
          "height": 1000
        },
        "id": "xmFdYnNX6ND0",
        "outputId": "b89ce4d0-89f0-462c-c83f-a29767b28379"
      },
      "outputs": [],
      "source": [
        "%cd {proj_root}\n",
        "\n",
        "from lib.kits.basic import *\n",
        "import cv2\n",
        "from lib.utils.media import load_img, splice_img\n",
        "from google.colab.patches import cv2_imshow\n",
        "\n",
        "outputs_dir = PM.outputs / 'demos'\n",
        "img_paths = outputs_dir.glob('*.jpg')\n",
        "imgs = [cv2.imread(img_path) for img_path in img_paths]\n",
        "for img in imgs:\n",
        "    cv2_imshow(img)\n"
      ]
    },
    {
      "cell_type": "markdown",
      "metadata": {
        "id": "gT_xkKla2x9T"
      },
      "source": [
        "# Try yourself!\n",
        "\n",
        "\n",
        "Create `/content/HSMR/data_inputs/demo/custom_imgs/` with the next block and upload your images, then continue."
      ]
    },
    {
      "cell_type": "code",
      "execution_count": null,
      "metadata": {
        "id": "VVtvscXA2aGR"
      },
      "outputs": [],
      "source": [
        "%cd {proj_root}\n",
        "\n",
        "!mkdir -p \"data_outputs/demos_custom\"\n"
      ]
    },
    {
      "cell_type": "code",
      "execution_count": null,
      "metadata": {
        "id": "wWPksOPe3bpY"
      },
      "outputs": [],
      "source": [
        "%cd {proj_root}\n",
        "\n",
        "!python exp/run_demo.py --input_path \"data_inputs/demo/custom_imgs\" --output_path \"data_outputs/demos_custom\"\n",
        "\n",
        "from lib.kits.basic import *\n",
        "import cv2\n",
        "from lib.utils.media import load_img, splice_img\n",
        "from google.colab.patches import cv2_imshow\n",
        "\n",
        "outputs_dir = PM.outputs / 'demos_custom'\n",
        "img_paths = outputs_dir.glob('*.jpg')\n",
        "imgs = [cv2.imread(img_path) for img_path in img_paths]\n",
        "for img in imgs:\n",
        "    cv2_imshow(img)\n"
      ]
    }
  ],
  "metadata": {
    "accelerator": "GPU",
    "colab": {
      "gpuType": "T4",
      "provenance": []
    },
    "kernelspec": {
      "display_name": "Python 3",
      "name": "python3"
    },
    "language_info": {
      "name": "python"
    }
  },
  "nbformat": 4,
  "nbformat_minor": 0
}
