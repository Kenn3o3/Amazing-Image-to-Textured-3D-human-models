{
  "nbformat": 4,
  "nbformat_minor": 0,
  "metadata": {
    "colab": {
      "provenance": [],
      "machine_shape": "hm"
    },
    "kernelspec": {
      "name": "python3",
      "display_name": "Python 3"
    },
    "language_info": {
      "name": "python"
    }
  },
  "cells": [
    {
      "cell_type": "markdown",
      "source": [
        "**Optional**: Set Up SSH Access in Google Colab"
      ],
      "metadata": {
        "id": "MzYdLxIQWUZH"
      }
    },
    {
      "cell_type": "code",
      "source": [
        "!pip install colab_ssh --upgrade"
      ],
      "metadata": {
        "colab": {
          "base_uri": "https://localhost:8080/"
        },
        "id": "TZrPAABEbgfY",
        "outputId": "83357f6b-6bf5-45d5-dd6c-81d928123e10"
      },
      "execution_count": 1,
      "outputs": [
        {
          "output_type": "stream",
          "name": "stdout",
          "text": [
            "Collecting colab_ssh\n",
            "  Downloading colab_ssh-0.3.27-py3-none-any.whl.metadata (7.7 kB)\n",
            "Downloading colab_ssh-0.3.27-py3-none-any.whl (26 kB)\n",
            "Installing collected packages: colab_ssh\n",
            "Successfully installed colab_ssh-0.3.27\n"
          ]
        }
      ]
    },
    {
      "cell_type": "code",
      "source": [
        "from colab_ssh import launch_ssh_cloudflared\n",
        "launch_ssh_cloudflared(password=\"cuhkmscproj\")"
      ],
      "metadata": {
        "colab": {
          "base_uri": "https://localhost:8080/",
          "height": 222
        },
        "id": "U7Z1qbzqbeDI",
        "outputId": "b59eaec0-2ce3-4fd9-89a1-91b5582be01e"
      },
      "execution_count": 2,
      "outputs": [
        {
          "output_type": "display_data",
          "data": {
            "text/plain": [
              "<IPython.core.display.HTML object>"
            ],
            "text/html": [
              "<style>\n",
              "*{\n",
              "\toutline:none;\n",
              "}\n",
              "code{\n",
              "\tdisplay:inline-block;\n",
              "\tpadding:5px 10px;\n",
              "\tbackground: #444;\n",
              "\tborder-radius: 4px;\n",
              "\twhite-space: pre-wrap;\n",
              "\tposition:relative;\n",
              "\tcolor:white;\n",
              "}\n",
              ".copy-code-button{\n",
              "\tfloat:right;\n",
              "\tbackground:#333;\n",
              "\tcolor:white;\n",
              "\tborder: none;\n",
              "\tmargin: 0 0 0 10px;\n",
              "\tcursor: pointer;\n",
              "}\n",
              "p, li{\n",
              "\tmax-width:700px;\n",
              "}\n",
              ".choices{\n",
              "\tdisplay:flex;\n",
              "\tflex: 1 0 auto;\n",
              "}\n",
              ".choice-section{\n",
              "\tborder:solid 1px #555;\n",
              "\tborder-radius: 4px;\n",
              "\tmin-width:300px;\n",
              "\tmargin: 10px 15px 0 0;\n",
              "\tpadding: 0 15px 15px 15px ;\n",
              "}\n",
              ".button{\n",
              "\tpadding: 10px 15px;\n",
              "\tbackground:#333;\n",
              "\tborder-radius: 4px;\n",
              "\tborder:solid 1px #555;\n",
              "\tcolor:white;\n",
              "\tfont-weight:bold;\n",
              "\tcursor:pointer;\n",
              "}\n",
              ".pill{\n",
              "\tpadding:2px 4px;\n",
              "\tborder-radius: 100px;\n",
              "\tbackground-color:#e65858;\n",
              "\tfont-size:12px;\n",
              "\tfont-weight:bold;\n",
              "\tmargin: 0 15px;\n",
              "\tcolor:white;\n",
              "}\n",
              "</style>\n",
              "<details class=\"choice-section\">\n",
              "\t<summary style=\"cursor:pointer\">\n",
              "\t\t<h3 style=\"display:inline-block;margin-top:15px\">⚙️ Client machine configuration<span class=\"pill\">Required</span></h3>\n",
              "\t</summary>\n",
              "\t<p>Don't worry, you only have to do this <b>once per client machine</b>.</p>\n",
              "\t<ol>\n",
              "\t\t<li>Download <a href=\"https://developers.cloudflare.com/argo-tunnel/getting-started/installation\">Cloudflared (Argo Tunnel)</a>, then copy the absolute path of the cloudflare binary</li>\n",
              "\t\t<li>Now, you have to append the following to your SSH config file (usually under ~/.ssh/config), and make sure you replace the placeholder with the path you copied in Step 1:</li>\n",
              "\t</ol>\n",
              "\t<code>Host *.trycloudflare.com\n",
              "\tHostName %h\n",
              "\tUser root\n",
              "\tPort 22\n",
              "\tProxyCommand &ltPUT_THE_ABSOLUTE_CLOUDFLARE_PATH_HERE&gt access ssh --hostname %h\n",
              "\t</code>\n",
              "</details>\n",
              "<div class=\"choices\">\n",
              "\t<div class=\"choice-section\">\n",
              "\t\t<h4>SSH Terminal</h4>\n",
              "\t\t<p>To connect using your terminal, type this command:</p>\n",
              "\t\t<code>ssh games-wrapped-highways-nails.trycloudflare.com</code>\n",
              "\t</div>\n",
              "\t<div class=\"choice-section\">\n",
              "\t\t<h4>VSCode Remote SSH</h4>\n",
              "\t\t<p>You can also connect with VSCode Remote SSH (Ctrl+Shift+P and type \"Connect to Host...\"). Then, paste the following hostname in the opened command palette:</p>\n",
              "\t\t<code>games-wrapped-highways-nails.trycloudflare.com</code>\n",
              "\t</div>\n",
              "</div>\n",
              "\n",
              "<script>\n",
              "// Copy any string\n",
              "function fallbackCopyTextToClipboard(text) {\n",
              "  var textArea = document.createElement(\"textarea\");\n",
              "  textArea.value = text;\n",
              "  \n",
              "  // Avoid scrolling to bottom\n",
              "  textArea.style.top = \"0\";\n",
              "  textArea.style.left = \"0\";\n",
              "  textArea.style.position = \"fixed\";\n",
              "\n",
              "  document.body.appendChild(textArea);\n",
              "  textArea.focus();\n",
              "  textArea.select();\n",
              "\n",
              "  try {\n",
              "    var successful = document.execCommand('copy');\n",
              "    var msg = successful ? 'successful' : 'unsuccessful';\n",
              "    console.log('Fallback: Copying text command was ' + msg);\n",
              "  } catch (err) {\n",
              "    console.error('Fallback: Oops, unable to copy', err);\n",
              "  }\n",
              "\n",
              "  document.body.removeChild(textArea);\n",
              "}\n",
              "\n",
              "// Show the copy button with every code tag\n",
              "document.querySelectorAll('code').forEach(function (codeBlock) {\n",
              "\tconst codeToCopy= codeBlock.innerText;\n",
              "\tvar pre = document.createElement('pre');\n",
              "\tpre.innerText = codeToCopy;\n",
              "    var button = document.createElement('button');\n",
              "    button.className = 'copy-code-button';\n",
              "    button.type = 'button';\n",
              "    button.innerText = 'Copy';\n",
              "\tbutton.onclick = function(){\n",
              "\t\tfallbackCopyTextToClipboard(codeToCopy);\n",
              "\t\tbutton.innerText = 'Copied'\n",
              "\t\tsetTimeout(()=>{\n",
              "\t\t\tbutton.innerText = 'Copy'\n",
              "\t\t},2000)\n",
              "\t}\n",
              "\tcodeBlock.children = pre;\n",
              "\tcodeBlock.prepend(button)\n",
              "});\n",
              "</script>\n"
            ]
          },
          "metadata": {}
        }
      ]
    },
    {
      "cell_type": "markdown",
      "source": [
        "Do the following in the local machine:\n",
        "```\n",
        "wget https://github.com/cloudflare/cloudflared/releases/latest/download/cloudflared-linux-amd64 -O cloudflared\n",
        "sudo mv cloudflared /usr/local/bin/\n",
        "sudo chmod +x /usr/local/bin/cloudflared\n",
        "\n",
        "```\n",
        "\n",
        "add the following in `~/.ssh/config`:\n",
        "```\n",
        "Host *.trycloudflare.com\n",
        "    HostName %h\n",
        "    User root\n",
        "    Port 22\n",
        "    ProxyCommand /usr/local/bin/cloudflared access ssh --hostname %h\n",
        "```"
      ],
      "metadata": {
        "id": "Ndg3kn9ktiei"
      }
    },
    {
      "cell_type": "markdown",
      "source": [
        "## First set of commands:\n",
        "\n",
        "```\n",
        "wget https://developer.download.nvidia.com/compute/cuda/11.7.0/local_installers/cuda_11.7.0_515.43.04_linux.run\n",
        "chmod +x cuda_11.7.0_515.43.04_linux.run\n",
        "sudo ./cuda_11.7.0_515.43.04_linux.run --toolkit --silent --override --toolkitpath=/usr/local/cuda-11.7\n",
        "ls /usr/local | grep cuda # Make sure there is version 11.7\n",
        "\n",
        "curl -LO https://github.com/NVIDIA/cub/archive/1.10.0.tar.gz\n",
        "tar xzf 1.10.0.tar.gz\n",
        "mv cub-1.10.0 cub\n",
        "rm 1.10.0.tar.gz\n",
        "\n",
        "export PATH=/usr/local/cuda-11.7/bin:$PATH\n",
        "echo 'export PATH=/usr/local/cuda-11.7/bin:$PATH' >> ~/.bashrc\n",
        "\n",
        "export LD_LIBRARY_PATH=/usr/lib/x86_64-linux-gnu:$LD_LIBRARY_PATH\n",
        "\n",
        "export LD_LIBRARY_PATH=/content/TensorRT-8.6.1.6/lib:$LD_LIBRARY_PATH\n",
        "echo 'export LD_LIBRARY_PATH=/content/TensorRT-8.6.1.6/lib:$LD_LIBRARY_PATH' >> ~/.bashrc\n",
        "\n",
        "export CUDA_HOME=/usr/local/cuda-11.7\n",
        "echo 'export CUDA_HOME=/usr/local/cuda-11.7' >> ~/.bashrc\n",
        "\n",
        "export CUB_HOME=/content/cub/cub #change to corresponding path\n",
        "echo 'export CUB_HOME=/content/cub/cub' >> ~/.bashrc\n",
        "\n",
        "nvcc --version # check if cuda version is set to 11.7\n",
        "\n",
        "sudo apt-get update\n",
        "sudo apt-get install -y libeigen3-dev ffmpeg\n",
        "\n",
        "# libcublas-11-7\n",
        "\n",
        "wget https://developer.nvidia.com/downloads/compute/machine-learning/tensorrt/secure/8.6.1/tars/TensorRT-8.6.1.6.Linux.x86_64-gnu.cuda-11.8.tar.gz\n",
        "\n",
        "tar xzf TensorRT-8.6.1.6.Linux.x86_64-gnu.cuda-11.8.tar.gz -C /content\n",
        "\n",
        "sudo update-alternatives --install /usr/local/cuda cuda /usr/local/cuda-11.7 117\n",
        "\n",
        "sudo update-alternatives --config cuda\n",
        "```"
      ],
      "metadata": {
        "id": "1l6HcUE0zNoh"
      }
    },
    {
      "cell_type": "markdown",
      "source": [
        "## Second set of commands:\n",
        "```\n",
        "\n",
        "wget https://repo.anaconda.com/miniconda/Miniconda3-latest-Linux-x86_64.sh -O miniconda.sh\n",
        "bash miniconda.sh -b -u -p /content/miniconda\n",
        "rm miniconda.sh\n",
        "export PATH=/content/miniconda/bin:$PATH\n",
        "echo 'export PATH=/content/miniconda/bin:$PATH' >> ~/.bashrc\n",
        "conda init\n",
        "```\n",
        "Then open a new terminal"
      ],
      "metadata": {
        "id": "HFVXDtolzsDu"
      }
    },
    {
      "cell_type": "markdown",
      "source": [
        "## Third set of commands:\n",
        "```\n",
        "conda create -n sifu python=3.8 -y\n",
        "conda activate sifu\n",
        "\n",
        "git clone https://github.com/River-Zhang/SIFU.git\n",
        "cd SIFU\n",
        "\n",
        "pip install gdown\n",
        "mkdir -p ./data/ckpt\n",
        "mkdir -p ./temp_ckpt\n",
        "gdown \"https://drive.google.com/uc?id=13rNSmQI_VaMtwlMBSUaxEGybzJEl5KTi\" -O ckpt_sifu.zip\n",
        "unzip ckpt_sifu.zip -d temp_ckpt\n",
        "find temp_ckpt -type f -name \"*.ckpt\" -exec mv {} ./data/ckpt/ \\;\n",
        "rm ckpt_sifu.zip\n",
        "rm -rf temp_ckpt\n",
        "chmod +x ./fetch_hps.sh ./fetch_data.sh\n",
        "./fetch_hps.sh\n",
        "./fetch_data.sh\n",
        "```\n",
        "Then input to terminal"
      ],
      "metadata": {
        "id": "sw8qu3B10M_J"
      }
    },
    {
      "cell_type": "markdown",
      "source": [
        "## Fourth set of commands:\n",
        "```\n",
        "\n",
        "\n",
        "curl -L -o \"/content/SIFU/data/HPS/pixie_data/SMPLX_NEUTRAL_2020.npz\" \\\n",
        "  \"https://huggingface.co/lilpotat/pytorch3d/resolve/346374a95673795896e94398d65700cb19199e31/SMPLX_NEUTRAL_2020.npz\"\n",
        "\n",
        "curl -L -o \"/content/SIFU/data/HPS/pixie_data/smplx_extra_joints.yaml\" \\\n",
        "  \"https://huggingface.co/lilpotat/pytorch3d/resolve/c0f00775a655a0c6884184fc0a8564133592a5c2/smplx_extra_joints.yaml\"\n",
        "\n",
        "curl -L -o \"/content/SIFU/data/HPS/pixie_data/SMPLX_to_J14.pkl\" \\\n",
        "  \"https://huggingface.co/lilpotat/pytorch3d/resolve/8607853c732294f6b5c6922a56aa07821669c955/SMPLX_to_J14.pkl\"\n",
        "\n",
        "curl -L -o \"/content/SIFU/data/HPS/pixie_data/pixie_model.tar\" \\\n",
        "  \"https://huggingface.co/lilpotat/pytorch3d/resolve/d4f107a6f00a816d50f6791ec28b62b2a006ce59/pixie_model.tar\"\n",
        "\n",
        "curl -L -o \"/content/SIFU/data/smpl_related/smpl_data/smplx_vertex_lmkid.npy\" \\\n",
        "  \"https://huggingface.co/lilpotat/pytorch3d/resolve/c0f00775a655a0c6884184fc0a8564133592a5c2/smpl_data/smplx_vertex_lmkid.npy\"\n",
        "\n",
        "curl -L -o \"/content/SIFU/data/smpl_related/smpl_data/MANO_SMPLX_vertex_ids.pkl\" \\\n",
        "  \"https://huggingface.co/camenduru/SMPLer-X/resolve/main/MANO_SMPLX_vertex_ids.pkl\"\n",
        "\n",
        "curl -L -o \"/content/SIFU/data/smpl_related/smpl_data/FLAME_SMPLX_vertex_ids.npy\" \\\n",
        "  \"https://huggingface.co/lilpotat/pytorch3d/resolve/main/smpl_data/FLAME_SMPLX_vertex_ids.npy\"\n",
        "\n",
        "curl -L -o \"/content/SIFU/data/smpl_related/smpl_data/FLAME_face_mask_ids.npy\" \\\n",
        "  \"https://huggingface.co/lilpotat/pytorch3d/resolve/main/smpl_data/FLAME_face_mask_ids.npy\"\n",
        "\n",
        "pip install huggingface_hub\n",
        "mkdir -p data/smpl_related/smpl_data\n",
        "huggingface-cli download lilpotat/pytorch3d --include \"smpl_data/**\" --local-dir data/smpl_related/smpl_data\n",
        "\n",
        "pip install torch==1.13.0+cu117 torchvision==0.14.0+cu117 torchaudio==0.13.0 --extra-index-url https://download.pytorch.org/whl/cu117\n",
        "pip install rembg[gpu] numpy==1.24.4\n",
        "\n",
        "python --version\n",
        "python -c \"import torch; print('PyTorch version:', torch.__version__)\"\n",
        "python -c \"import torch; print('CUDA available:', torch.cuda.is_available())\"\n",
        "python -c \"import torch; print('CUDA version:', torch.version.cuda)\"\n",
        "\n",
        "cat > requirements.txt << EOF\n",
        "einops\n",
        "gdown\n",
        "matplotlib==3.5.0\n",
        "mediapipe\n",
        "Pillow>=9.0.1\n",
        "PyOpenGL\n",
        "PyOpenGL_accelerate\n",
        "PyYAML>=6.0\n",
        "yacs>=0.1.8\n",
        "scikit-image==0.19.1\n",
        "termcolor\n",
        "tqdm==4.62.3\n",
        "loguru==0.5.3\n",
        "trimesh==3.9.35\n",
        "flatten_dict==0.4.2\n",
        "ipykernel==5.3.4\n",
        "ipywidgets>=7.6.5\n",
        "jpeg4py\n",
        "shapely==1.7.1\n",
        "vedo==2020.4.2\n",
        "rtree==0.9.7\n",
        "pytorch_lightning==1.2.5\n",
        "PyMCubes==0.1.4\n",
        "kornia\n",
        "chumpy\n",
        "tinyobjloader==2.0.0rc7\n",
        "cython==0.29.20\n",
        "opencv-python\n",
        "opencv_contrib_python\n",
        "open3d==0.17.0\n",
        "scikit-learn\n",
        "simple-romp==1.0.4\n",
        "protobuf==3.20.0\n",
        "pymeshlab==2022.2.post4\n",
        "dataclasses>=0.6\n",
        "# numpy==1.24.4\n",
        "# git+https://github.com/facebookresearch/pytorch3d.git@v0.7.2\n",
        "git+https://github.com/YuliangXiu/neural_voxelization_layer.git\n",
        "# git+https://github.com/NVIDIAGameWorks/kaolin.git\n",
        "# git+https://github.com/YuliangXiu/rembg.git\n",
        "EOF\n",
        "\n",
        "pip install pip==24.0\n",
        "pip install -r requirements.txt\n",
        "pip install git+https://github.com/facebookresearch/pytorch3d.git@v0.7.2\n",
        "pip install git+https://github.com/NVIDIAGameWorks/kaolin.git\n",
        "\n",
        "pip uninstall onnxruntime-gpu -y\n",
        "pip install onnxruntime-gpu==1.12.0\n",
        "\n",
        "sudo apt-get install libcublas-11-7\n",
        "```\n",
        "\n",
        "```\n",
        "python -m apps.infer -cfg ./configs/sifu.yaml -gpu 0 -in_dir ./examples -out_dir ./results -loop_smpl 100 -loop_cloth 200 -hps_type pixie\n",
        "```\n",
        "\n",
        "\n"
      ],
      "metadata": {
        "id": "vAI8GxMT0aAt"
      }
    },
    {
      "cell_type": "code",
      "source": [
        "print(\".\")"
      ],
      "metadata": {
        "colab": {
          "base_uri": "https://localhost:8080/"
        },
        "id": "QxbxWuY9Yju1",
        "outputId": "9c2d7f7d-a13c-499a-f549-6ef8e582b2a8"
      },
      "execution_count": 14,
      "outputs": [
        {
          "output_type": "stream",
          "name": "stdout",
          "text": [
            ".\n"
          ]
        }
      ]
    },
    {
      "cell_type": "markdown",
      "source": [
        "# Start from here"
      ],
      "metadata": {
        "id": "7_U8CU2kzuYe"
      }
    },
    {
      "cell_type": "markdown",
      "source": [
        "## Add cuda 11.7:\n",
        "```\n",
        "wget https://developer.download.nvidia.com/compute/cuda/11.7.0/local_installers/cuda_11.7.0_515.43.04_linux.run\n",
        "chmod +x cuda_11.7.0_515.43.04_linux.run\n",
        "sudo ./cuda_11.7.0_515.43.04_linux.run --toolkit --silent --override --toolkitpath=/usr/local/cuda-11.7\n",
        "ls /usr/local | grep cuda # Make sure there is version 11.7\n",
        "```"
      ],
      "metadata": {
        "id": "jmzmmldqyKrl"
      }
    },
    {
      "cell_type": "markdown",
      "source": [
        "Download CUB for pytorch3D:\n",
        "```\n",
        "curl -LO https://github.com/NVIDIA/cub/archive/1.10.0.tar.gz\n",
        "tar xzf 1.10.0.tar.gz\n",
        "mv cub-1.10.0 cub\n",
        "rm 1.10.0.tar.gz\n",
        "```"
      ],
      "metadata": {
        "id": "YDAwRVb0yjgk"
      }
    },
    {
      "cell_type": "markdown",
      "source": [
        "Set Environment Variables:\n",
        "```\n",
        "export PATH=/usr/local/cuda-11.7/bin:$PATH\n",
        "echo 'export PATH=/usr/local/cuda-11.7/bin:$PATH' >> ~/.bashrc\n",
        "\n",
        "export LD_LIBRARY_PATH=/usr/lib/x86_64-linux-gnu:$LD_LIBRARY_PATH\n",
        "\n",
        "export LD_LIBRARY_PATH=/content/TensorRT-8.6.1.6/lib:$LD_LIBRARY_PATH\n",
        "echo 'export LD_LIBRARY_PATH=/content/TensorRT-8.6.1.6/lib:$LD_LIBRARY_PATH' >> ~/.bashrc\n",
        "\n",
        "export CUDA_HOME=/usr/local/cuda-11.7\n",
        "echo 'export CUDA_HOME=/usr/local/cuda-11.7' >> ~/.bashrc\n",
        "\n",
        "export CUB_HOME=/content/cub/cub #change to corresponding path\n",
        "echo 'export CUB_HOME=/content/cub/cub' >> ~/.bashrc\n",
        "\n",
        "nvcc --version # check if cuda version is set to 11.7\n",
        "```"
      ],
      "metadata": {
        "id": "nWZixXO-1ChB"
      }
    },
    {
      "cell_type": "markdown",
      "source": [
        "Download packages:\n",
        "```\n",
        "sudo apt-get update\n",
        "sudo apt-get install -y libeigen3-dev ffmpeg\n",
        "\n",
        "# libcublas-11-7\n",
        "\n",
        "wget https://developer.nvidia.com/downloads/compute/machine-learning/tensorrt/secure/8.6.1/tars/TensorRT-8.6.1.6.Linux.x86_64-gnu.cuda-11.8.tar.gz\n",
        "\n",
        "tar xzf TensorRT-8.6.1.6.Linux.x86_64-gnu.cuda-11.8.tar.gz -C /content\n",
        "```"
      ],
      "metadata": {
        "id": "2OL7v__qysVB"
      }
    },
    {
      "cell_type": "markdown",
      "source": [
        "Select CUDA 11.7:\n",
        "```\n",
        "sudo update-alternatives --install /usr/local/cuda cuda /usr/local/cuda-11.7 117\n",
        "sudo update-alternatives --config cuda\n",
        "```"
      ],
      "metadata": {
        "id": "cDKDTBk5lUeg"
      }
    },
    {
      "cell_type": "markdown",
      "source": [
        "Download conda:\n",
        "```\n",
        "wget https://repo.anaconda.com/miniconda/Miniconda3-latest-Linux-x86_64.sh -O miniconda.sh\n",
        "bash miniconda.sh -b -u -p /content/miniconda\n",
        "rm miniconda.sh\n",
        "export PATH=/content/miniconda/bin:$PATH\n",
        "echo 'export PATH=/content/miniconda/bin:$PATH' >> ~/.bashrc\n",
        "conda init\n",
        "```\n",
        "Then open a new shell."
      ],
      "metadata": {
        "id": "TkqpRtKezzec"
      }
    },
    {
      "cell_type": "markdown",
      "source": [
        "Create a new conda environment:\n",
        "```\n",
        "conda create -n sifu python=3.8 -y\n",
        "conda activate sifu\n",
        "```"
      ],
      "metadata": {
        "id": "oikp51qc02Bm"
      }
    },
    {
      "cell_type": "markdown",
      "source": [
        "Clone the repo:\n",
        "```\n",
        "git clone https://github.com/River-Zhang/SIFU.git\n",
        "cd SIFU\n",
        "```"
      ],
      "metadata": {
        "id": "ofwJrePcHMqF"
      }
    },
    {
      "cell_type": "markdown",
      "source": [
        "Download checkpoints:\n",
        "```\n",
        "pip install gdown\n",
        "mkdir -p ./data/ckpt\n",
        "mkdir -p ./temp_ckpt\n",
        "gdown \"https://drive.google.com/uc?id=13rNSmQI_VaMtwlMBSUaxEGybzJEl5KTi\" -O ckpt_sifu.zip\n",
        "unzip ckpt_sifu.zip -d temp_ckpt\n",
        "find temp_ckpt -type f -name \"*.ckpt\" -exec mv {} ./data/ckpt/ \\;\n",
        "rm ckpt_sifu.zip\n",
        "rm -rf temp_ckpt\n",
        "```"
      ],
      "metadata": {
        "id": "g94bzId8SteZ"
      }
    },
    {
      "cell_type": "markdown",
      "source": [
        "Download data:\n",
        "```\n",
        "chmod +x ./fetch_hps.sh ./fetch_data.sh\n",
        "./fetch_hps.sh\n",
        "./fetch_data.sh\n",
        "```"
      ],
      "metadata": {
        "id": "TrO8IkvHKyGy"
      }
    },
    {
      "cell_type": "markdown",
      "source": [
        "There maybe some corrupted/missing files. You can download yourself, for example:\n",
        "\n",
        "```\n",
        "curl -L -o \"/content/SIFU/data/HPS/pixie_data/smplx_extra_joints.yaml\" \\\n",
        "  \"https://huggingface.co/lilpotat/pytorch3d/resolve/c0f00775a655a0c6884184fc0a8564133592a5c2/smplx_extra_joints.yaml\"\n",
        "\n",
        "curl -L -o \"/content/SIFU/data/HPS/pixie_data/SMPLX_to_J14.pkl\" \\\n",
        "  \"https://huggingface.co/lilpotat/pytorch3d/resolve/8607853c732294f6b5c6922a56aa07821669c955/SMPLX_to_J14.pkl\"\n",
        "\n",
        "curl -L -o \"/content/SIFU/data/HPS/pixie_data/pixie_model.tar\" \\\n",
        "  \"https://huggingface.co/lilpotat/pytorch3d/resolve/d4f107a6f00a816d50f6791ec28b62b2a006ce59/pixie_model.tar\"\n",
        "\n",
        "curl -L -o \"/content/SIFU/data/smpl_related/smpl_data/smplx_vertex_lmkid.npy\" \\\n",
        "  \"https://huggingface.co/lilpotat/pytorch3d/resolve/c0f00775a655a0c6884184fc0a8564133592a5c2/smpl_data/smplx_vertex_lmkid.npy\"\n",
        "\n",
        "curl -L -o \"/content/SIFU/data/smpl_related/smpl_data/MANO_SMPLX_vertex_ids.pkl\" \\\n",
        "  \"https://huggingface.co/camenduru/SMPLer-X/resolve/main/MANO_SMPLX_vertex_ids.pkl\"\n",
        "\n",
        "curl -L -o \"/content/SIFU/data/smpl_related/smpl_data/FLAME_SMPLX_vertex_ids.npy\" \\\n",
        "  \"https://huggingface.co/lilpotat/pytorch3d/resolve/main/smpl_data/FLAME_SMPLX_vertex_ids.npy\"\n",
        "\n",
        "curl -L -o \"/content/SIFU/data/smpl_related/smpl_data/FLAME_face_mask_ids.npy\" \\\n",
        "  \"https://huggingface.co/lilpotat/pytorch3d/resolve/main/smpl_data/FLAME_face_mask_ids.npy\"\n",
        "\n",
        "\n",
        "```"
      ],
      "metadata": {
        "id": "-m_g7cbcS_qP"
      }
    },
    {
      "cell_type": "markdown",
      "source": [
        "Download SMPL related data:\n",
        "```\n",
        "pip install huggingface_hub\n",
        "mkdir -p data/smpl_related/smpl_data\n",
        "huggingface-cli download lilpotat/pytorch3d --include \"smpl_data/**\" --local-dir data/smpl_related/smpl_data\n",
        "```"
      ],
      "metadata": {
        "id": "eeC2xODLXkK2"
      }
    },
    {
      "cell_type": "code",
      "source": [
        "print(\".\")"
      ],
      "metadata": {
        "colab": {
          "base_uri": "https://localhost:8080/"
        },
        "id": "44YIH463RlZF",
        "outputId": "53f50f01-7e2b-45f9-80bb-054392baa428"
      },
      "execution_count": 15,
      "outputs": [
        {
          "output_type": "stream",
          "name": "stdout",
          "text": [
            ".\n"
          ]
        }
      ]
    },
    {
      "cell_type": "markdown",
      "source": [
        "Install packages:\n",
        "```\n",
        "pip install torch==1.13.0+cu117 torchvision==0.14.0+cu117 torchaudio==0.13.0 --extra-index-url https://download.pytorch.org/whl/cu117\n",
        "pip install rembg[gpu] numpy==1.24.4\n",
        "\n",
        "python --version\n",
        "python -c \"import torch; print('PyTorch version:', torch.__version__)\"\n",
        "python -c \"import torch; print('CUDA available:', torch.cuda.is_available())\"\n",
        "python -c \"import torch; print('CUDA version:', torch.version.cuda)\"\n",
        "```"
      ],
      "metadata": {
        "id": "dNCBZaluXxqZ"
      }
    },
    {
      "cell_type": "markdown",
      "source": [
        "Replace the requirements.txt with:\n",
        "```\n",
        "einops\n",
        "gdown\n",
        "matplotlib==3.5.0\n",
        "mediapipe\n",
        "Pillow>=9.0.1\n",
        "PyOpenGL\n",
        "PyOpenGL_accelerate\n",
        "PyYAML>=6.0\n",
        "yacs>=0.1.8\n",
        "scikit-image==0.19.1\n",
        "termcolor\n",
        "tqdm==4.62.3\n",
        "loguru==0.5.3\n",
        "trimesh==3.9.35\n",
        "flatten_dict==0.4.2\n",
        "ipykernel==5.3.4\n",
        "ipywidgets>=7.6.5\n",
        "jpeg4py\n",
        "shapely==1.7.1\n",
        "vedo==2020.4.2\n",
        "rtree==0.9.7\n",
        "pytorch_lightning==1.2.5\n",
        "PyMCubes==0.1.4\n",
        "kornia\n",
        "chumpy\n",
        "tinyobjloader==2.0.0rc7\n",
        "cython==0.29.20\n",
        "opencv-python\n",
        "opencv_contrib_python\n",
        "open3d==0.17.0\n",
        "scikit-learn\n",
        "simple-romp==1.0.4\n",
        "protobuf==3.20.0\n",
        "pymeshlab==2022.2.post4\n",
        "dataclasses>=0.6\n",
        "# numpy==1.24.4\n",
        "# git+https://github.com/facebookresearch/pytorch3d.git@v0.7.2\n",
        "git+https://github.com/YuliangXiu/neural_voxelization_layer.git\n",
        "# git+https://github.com/NVIDIAGameWorks/kaolin.git\n",
        "# git+https://github.com/YuliangXiu/rembg.git\n",
        "```"
      ],
      "metadata": {
        "id": "nYFvcbQtXSRZ"
      }
    },
    {
      "cell_type": "markdown",
      "source": [
        "Run the following in xterm:\n",
        "```\n",
        "pip install pip==24.0\n",
        "pip install -r requirements.txt\n",
        "pip install git+https://github.com/facebookresearch/pytorch3d.git@v0.7.2\n",
        "pip install git+https://github.com/NVIDIAGameWorks/kaolin.git\n",
        "```\n",
        "\n",
        "Note: It takes a long time for pytorch3d to build successfully."
      ],
      "metadata": {
        "id": "HNbCBuO2X1HQ"
      }
    },
    {
      "cell_type": "markdown",
      "source": [
        "```\n",
        "pip uninstall onnxruntime-gpu -y\n",
        "pip install onnxruntime-gpu==1.12.0\n",
        "```\n"
      ],
      "metadata": {
        "id": "H_jt2hMIqNl1"
      }
    },
    {
      "cell_type": "markdown",
      "source": [
        "```\n",
        "sudo update-alternatives --config cuda # set to cuda 11.7\n",
        "```"
      ],
      "metadata": {
        "id": "coGy9atGlL8g"
      }
    },
    {
      "cell_type": "markdown",
      "source": [
        "```\n",
        "sudo apt-get install libcublas-11-7\n",
        "```\n"
      ],
      "metadata": {
        "id": "gpBsoYIwpIDZ"
      }
    },
    {
      "cell_type": "markdown",
      "source": [
        "# Inference\n",
        "\n",
        "```\n",
        "python -m apps.infer -cfg ./configs/sifu.yaml -gpu 0 -in_dir ./examples -out_dir ./results -loop_smpl 100 -loop_cloth 200 -hps_type pixie\n",
        "```"
      ],
      "metadata": {
        "id": "b727n4RqnjMq"
      }
    },
    {
      "cell_type": "markdown",
      "source": [
        "Test the following (replace in examples:)"
      ],
      "metadata": {
        "id": "Q22e4Yoawj4P"
      }
    },
    {
      "cell_type": "markdown",
      "source": [
        "Download and extract testure_refine_module.zip:\n",
        "\n",
        "```\n",
        "gdown https://drive.google.com/uc?id=1GOpo8enZTWsaWMn_liPnPNmkaUeNsqJk && unzip testure_refine_module.zip\n",
        "```"
      ],
      "metadata": {
        "id": "yoLNgWsmx-io"
      }
    },
    {
      "cell_type": "markdown",
      "source": [
        "```\n",
        "conda deactivate\n",
        "cd testure_refine_module\n",
        "conda env create -f dreamgaussian.yaml\n",
        "conda activate dreamgaussian\n",
        "```"
      ],
      "metadata": {
        "id": "By14snn-zPoG"
      }
    },
    {
      "cell_type": "markdown",
      "source": [
        "in dreamgaussian.txt, first comment out line 22, 118, 136 then run `pip install -r dreamgaussian.txt`."
      ],
      "metadata": {
        "id": "x0CW2Vwx1K9T"
      }
    },
    {
      "cell_type": "markdown",
      "source": [
        "```\n",
        "export CXX=g++\n",
        "echo 'export CXX=g++' >> ~/.bashrc\n",
        "pip install torch==1.13.0+cu117 torchvision==0.14.0+cu117 torchaudio==0.13.0 --extra-index-url https://download.pytorch.org/whl/cu117\n",
        "```"
      ],
      "metadata": {
        "id": "5bykZ6pd1G80"
      }
    },
    {
      "cell_type": "markdown",
      "source": [
        "run pip install -r additional_requirements.txt\n",
        "\n",
        "additional_requirements.txt:\n",
        "```\n",
        "diff_gaussian_rasterization @ file:///content/SIFU/testure_refine_module/dreamgaussian/diff-gaussian-rasterization\n",
        "pytorch3d @ git+https://github.com/facebookresearch/pytorch3d.git@f34104cf6ebefacd7b7e07955ee7aaa823e616ac\n",
        "simple_knn @ file:///content/SIFU/testure_refine_module/dreamgaussian/simple-knn\n",
        "```"
      ],
      "metadata": {
        "id": "TZqPA16E1gMN"
      }
    },
    {
      "cell_type": "markdown",
      "source": [
        "```\n",
        "sudo apt-get install -y libegl1-mesa-dev libgl1-mesa-dev libgles2-mesa-dev\n",
        "pip install git+https://github.com/NVlabs/nvdiffrast@c5caf7bdb8a2448acc491a9faa47753972edd380\n",
        "```"
      ],
      "metadata": {
        "id": "6nNWkabf0XIE"
      }
    },
    {
      "cell_type": "markdown",
      "source": [
        "Modify the texture_refine.sh:\n",
        "```bash\n",
        "#!/bin/bash\n",
        "cd dreamgaussian\n",
        "\n",
        "# conda activate base\n",
        "device=0\n",
        "# step 1: get mesh_path and turn to uv map\n",
        "# Full path to the image\n",
        "image_path=\"../../examples/sit3.jpg\"\n",
        "#output=\"the side of the person is wearing a fitted sports bra and high-waisted athletic leggings in black. The sports bra may have a racerback or cross-strap design. The person's hair is blonde white. realistic\"\n",
        "output=\"The person is sitting in a beige armchair, wearing a brown argyle sweater with blue diamond patterns over a light blue collared shirt. They have on light beige trousers and dark brown shoes. The person is also wearing a flat cap and glasses, with a cheerful expression. Realistic.\"\n",
        "# Get directory name\n",
        "directory_path=$(dirname \"$image_path\")\n",
        "\n",
        "# Get file name\n",
        "file_name=$(basename \"$image_path\")\n",
        "# Get file name without extension\n",
        "file_name_no_ext=$(basename \"$image_path\" | sed -e 's/\\..*$//')\n",
        "# New file name with \"_rgba\" suffix\n",
        "new_file_name=\"${file_name_no_ext}_rgba.png\"\n",
        "# New full path to the image\n",
        "new_image_path=\"${directory_path}/${new_file_name}\"\n",
        "# input obj name with \"_refine\" suffix\n",
        "obj_file_name=\"${file_name_no_ext}_refine.obj\"\n",
        "obj_file_path=\"../../results/sifu/obj/${obj_file_name}\"\n",
        "\n",
        "echo \"Directory Path: $directory_path\"\n",
        "echo \"File Name: $file_name\"\n",
        "echo \"Result Image Path: $new_image_path\"\n",
        "echo \"Input Mesh Path: $obj_file_path\"\n",
        "\n",
        "CUDA_VISIBLE_DEVICES=\"$device\" python process.py \"$image_path\" --size 800\n",
        "\n",
        "texture_size=1024\n",
        "render_size=512\n",
        "config_file=\"configs/image.yaml\"\n",
        "\n",
        "CUDA_VISIBLE_DEVICES=\"$device\" python mesh_to_uvtex.py --config \"$config_file\" input=\"$new_image_path\" save_path=\"$file_name_no_ext\" mesh=\"$obj_file_path\" texture_size=\"$texture_size\" render_size=\"$render_size\"\n",
        "# save mesh to ${file_name_no_ext}_mesh\n",
        "\n",
        "# step 2: refine front texture\n",
        "input_mesh_path=\"logs/${file_name_no_ext}_mesh.obj\"\n",
        "save_mesh_name=\"${file_name_no_ext}_front\"\n",
        "iters_refine=50\n",
        "weight=0.90\n",
        "CUDA_VISIBLE_DEVICES=\"$device\" python main2.py --config \"$config_file\" input=\"$new_image_path\" save_path=\"$save_mesh_name\" mesh=\"$input_mesh_path\" iters_refine=\"$iters_refine\" weight=\"$weight\"\n",
        "\n",
        "# step 3: render backside texture to video\n",
        "input_mesh_path=\"logs/${save_mesh_name}.obj\"\n",
        "save_video_name=\"${file_name_no_ext}_back\"\n",
        "\n",
        "hor_start=150\n",
        "hor_end=210\n",
        "hor_step=2\n",
        "\n",
        "\n",
        "CUDA_VISIBLE_DEVICES=\"$device\" python mesh_to_video.py --config \"$config_file\" save_path=\"$save_video_name\" mesh=\"$input_mesh_path\" hor_start=\"$hor_start\" hor_end=\"$hor_end\" hor_step=\"$hor_step\"\n",
        "\n",
        "video_path=\"data/${save_video_name}.mp4\"\n",
        "\n",
        "# step 4: using CLIP to get text guidance\n",
        "\n",
        "# output=$(python CLIP_Interrogator.py --image_path \"$new_image_path\" | tail -n 1)\n",
        "prompt=\"the backside of ${output}\"\n",
        "echo \"$prompt\"\n",
        "# negative_prompt=\"A man wearing a poorly made brown robe with a red underlay and uneven sleeves. His black belt is loosely tied around his waist, and he is wearing mismatched shoes. He has a crooked skullcap on his head, and his beard is unkempt and messy, giving him a disheveled and unprofessional look. This low quality image lacks detail and clarity, with blurry edges and dull colors. The overall composition is unbalanced and lacks visual appeal. The poorly made attire and sloppy stance detract from the image's overall quality and authenticity. This image fails to capture the essence of martial arts and does not showcase the rich cultural heritage of East Asia.\"\n",
        "\n",
        "# step 5: using TokenFlow and text guidance to refine video\n",
        "# step 5.1: preprocess video to frames\n",
        "cd ../TokenFlow\n",
        "frames=30\n",
        "CUDA_VISIBLE_DEVICES=\"$device\" HF_ENDPOINT=https://hf-mirror.com python preprocess.py --data_path \"$video_path\" --n_frames \"$frames\" --inversion_prompt \"$prompt\" --batch_size \"$frames\" --steps 100\n",
        "# step 5.2: refine frames\n",
        "data_path=\"data/${save_video_name}\"\n",
        "CUDA_VISIBLE_DEVICES=\"$device\" HF_ENDPOINT=https://hf-mirror.com python run_tokenflow_pnp.py --data_path \"$data_path\" --prompt \"$prompt\" # --negative_prompt \"$negative_prompt\"\n",
        "\n",
        "# step 6: refine backside texture with refined video\n",
        "cd ../dreamgaussian\n",
        "\n",
        "refined_img_path=\"../TokenFlow/tokenflow-results_pnp_SD_2.1/${save_video_name}/img_ode\"\n",
        "echo \"$refined_img_path\"\n",
        "save_refined_mesh_name=\"${file_name_no_ext}_full\"\n",
        "CUDA_VISIBLE_DEVICES=\"$device\" python mesh_painting.py --config \"$config_file\" input=\"$new_image_path\" painting=\"$refined_img_path\" save_path=\"$save_refined_mesh_name\" mesh=\"$input_mesh_path\" hor_start=\"$hor_start\" hor_end=\"$hor_end\" hor_step=\"$hor_step\" use_vgg=True use_chamfer=True\n",
        "```"
      ],
      "metadata": {
        "id": "4F-Yh7Xw0f_J"
      }
    },
    {
      "cell_type": "markdown",
      "source": [
        "/content/SIFU/testure_refine_module/dreamgaussian/configs/image.yaml:26:\n",
        "```\n",
        "painting: \"/content/SIFU/testure_refine_module/TokenFlow/tokenflow-results_pnp_SD_2.1/messi-back/img_ode\"\n",
        "```\n",
        "/content/SIFU/testure_refine_module/dreamgaussian/configs/inpainting.yaml:26:\n",
        "```\n",
        "painting: \"/content/SIFU/testure_refine_module/TokenFlow/tokenflow-results_pnp_SD_2.1/messi-back/img_ode\"\n",
        "```\n",
        "\n",
        "/content/SIFU/testure_refine_module/dreamgaussian/meshcolor_to_uvtex/image.yaml:26:\n",
        "```\n",
        "painting: \"/content/SIFU/testure_refine_module/TokenFlow/tokenflow-results_pnp_SD_2.1/messi-back/img_ode\"\n",
        "```"
      ],
      "metadata": {
        "id": "Hr_jd8mQAbjs"
      }
    },
    {
      "cell_type": "markdown",
      "source": [
        "```\n",
        "sudo apt-get update\n",
        "sudo apt-get install -y libegl1-mesa-dev libgl1-mesa-dev libgles2-mesa-dev\n",
        "```"
      ],
      "metadata": {
        "id": "rKsrBw1wDlKi"
      }
    },
    {
      "cell_type": "markdown",
      "source": [
        "Do:\n",
        "```\n",
        "bash texture_refine.sh\n",
        "```\n",
        "You can modify the `image_path` in the `texture_refine.sh` file to specify the image you want to process, and modify the `output` in `texture_refine.sh` for the corresponding text description.\n",
        "\n",
        "Cannot be run in a headless environment:\n",
        "\n",
        "```\n",
        "[F glutil.cpp:338] eglInitialize() failed\n",
        "```"
      ],
      "metadata": {
        "id": "qCc7T5IXyQGH"
      }
    },
    {
      "cell_type": "code",
      "source": [],
      "metadata": {
        "id": "RguuYigTISZK"
      },
      "execution_count": null,
      "outputs": []
    }
  ]
}